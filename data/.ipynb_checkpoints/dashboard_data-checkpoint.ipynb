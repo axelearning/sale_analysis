{
 "cells": [
  {
   "cell_type": "markdown",
   "metadata": {},
   "source": [
    "# Create Data for the sales analysis dashboard"
   ]
  },
  {
   "cell_type": "code",
   "execution_count": 184,
   "metadata": {},
   "outputs": [],
   "source": [
    "import pandas as pd\n",
    "import numpy as np"
   ]
  },
  {
   "cell_type": "code",
   "execution_count": 185,
   "metadata": {},
   "outputs": [],
   "source": [
    "sales = pd.read_csv('clean_data.csv')"
   ]
  },
  {
   "cell_type": "code",
   "execution_count": 186,
   "metadata": {},
   "outputs": [],
   "source": [
    "# Sales summary in 2019\n",
    "sales_2019 = sales.groupby(['City','Month', 'Month_num']).sum()['Sales']\n",
    "sales_2019 = sales_2019.reset_index(2).sort_values('Month_num')['Sales']\n",
    "\n",
    "# # create the benefice\n",
    "# profit_rate = 0.07 # 7%\n",
    "# sales_2019['Profit'] = sales_2019['Sales'] * profit_rate\n",
    "\n",
    "# target for 2020\n",
    "# we want a increase of 15 %\n",
    "coef = 1.15\n",
    "targets_2020 = sales_2019 * coef"
   ]
  },
  {
   "cell_type": "code",
   "execution_count": 197,
   "metadata": {},
   "outputs": [],
   "source": [
    "# sales between the begining of 2020 and 23th of March 2020\n",
    "sales_2020 = targets_2020.unstack(0).loc[['Janvier','Février', 'Mars']].stack()\n",
    "# add a random rate \n",
    "sales_2020 = sales_2020.apply(lambda x: x * np.random.randint(98,108)/100)"
   ]
  },
  {
   "cell_type": "code",
   "execution_count": null,
   "metadata": {},
   "outputs": [],
   "source": []
  }
 ],
 "metadata": {
  "kernelspec": {
   "display_name": "Python 3",
   "language": "python",
   "name": "python3"
  },
  "language_info": {
   "codemirror_mode": {
    "name": "ipython",
    "version": 3
   },
   "file_extension": ".py",
   "mimetype": "text/x-python",
   "name": "python",
   "nbconvert_exporter": "python",
   "pygments_lexer": "ipython3",
   "version": "3.8.3"
  }
 },
 "nbformat": 4,
 "nbformat_minor": 4
}
